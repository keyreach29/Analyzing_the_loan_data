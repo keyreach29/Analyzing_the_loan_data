{
  "nbformat": 4,
  "nbformat_minor": 0,
  "metadata": {
    "colab": {
      "provenance": []
    },
    "kernelspec": {
      "name": "python3",
      "display_name": "Python 3"
    },
    "language_info": {
      "name": "python"
    }
  },
  "cells": [
    {
      "cell_type": "code",
      "execution_count": null,
      "metadata": {
        "id": "Z4PhkrZD9c9k"
      },
      "outputs": [],
      "source": [
        "\n",
        "# Code to deploy with FastAPI (You'll need to run this in a separate environment)\n",
        "# Install FastAPI and other dependencies\n",
        "# !pip install fastapi uvicorn\n",
        "\n",
        "# from fastapi import FastAPI\n",
        "# import pickle\n",
        "# import pandas as pd\n",
        "\n",
        "# app = FastAPI()\n",
        "\n",
        "# # Load the trained model\n",
        "# model = pickle.load(open('credit_scoring_model.pkl', 'rb'))\n",
        "\n",
        "# @app.get(\"/predict_dpd\")\n",
        "# def predict_dpd(loan_due: float, principal: float, dp: float):\n",
        "#     # Create a DataFrame with the input values\n",
        "#     new_customer_data = pd.DataFrame({'Loan_due': [loan_due], 'Principal': [principal], 'DPD': [dp]})\n",
        "\n",
        "#     # Make predictions using the loaded model\n",
        "#     predicted_dpd = model.predict(new_customer_data)[0]\n",
        "#     return {\"predicted_dpd\": predicted_dpd}\n",
        "\n",
        "\n",
        "# if __name__ == \"__main__\":\n",
        "#     import uvicorn\n",
        "#     uvicorn.run(app, host=\"0.0.0.0\", port=8000)\n",
        "\n"
      ]
    }
  ]
}